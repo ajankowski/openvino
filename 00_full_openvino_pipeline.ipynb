{
  "nbformat": 4,
  "nbformat_minor": 0,
  "metadata": {
    "kernelspec": {
      "display_name": "Python 3",
      "language": "python",
      "name": "python3"
    },
    "language_info": {
      "codemirror_mode": {
        "name": "ipython",
        "version": 3
      },
      "file_extension": ".py",
      "mimetype": "text/x-python",
      "name": "python",
      "nbconvert_exporter": "python",
      "pygments_lexer": "ipython3",
      "version": "3.7.7"
    },
    "colab": {
      "name": "00_full_openvino_pipeline_pic.ipynb",
      "private_outputs": true,
      "provenance": [],
      "collapsed_sections": [],
      "include_colab_link": true
    }
  },
  "cells": [
    {
      "cell_type": "markdown",
      "metadata": {
        "id": "view-in-github",
        "colab_type": "text"
      },
      "source": [
        "<a href=\"https://colab.research.google.com/github/ajankowski/openvino/blob/master/00_full_openvino_pipeline.ipynb\" target=\"_parent\"><img src=\"https://colab.research.google.com/assets/colab-badge.svg\" alt=\"Open In Colab\"/></a>"
      ]
    },
    {
      "cell_type": "markdown",
      "metadata": {
        "id": "iCFkAPunduI0"
      },
      "source": [
        "<img src='https://cdn-images-1.medium.com/fit/t/1600/480/1*_F330rP3SPZ-xhQKYQ1qhQ.png' height=100>"
      ]
    },
    {
      "cell_type": "code",
      "metadata": {
        "id": "F_xFHDYvSohE"
      },
      "source": [
        "!wget https://apt.repos.intel.com/openvino/2021/GPG-PUB-KEY-INTEL-OPENVINO-2021\n",
        "!apt-key add GPG-PUB-KEY-INTEL-OPENVINO-2021\n",
        "!touch /etc/apt/sources.list.d/intel-openvino-2021.list\n",
        "!echo \"deb https://apt.repos.intel.com/openvino/2021 all main\" >> /etc/apt/sources.list.d/intel-openvino-2021.list\n",
        "!pip install test-generator==0.1.1\n",
        "!apt update\n",
        "!apt install intel-openvino-dev-ubuntu18-2021.1"
      ],
      "execution_count": null,
      "outputs": []
    },
    {
      "cell_type": "markdown",
      "metadata": {
        "id": "ze_VpIVSRSCK"
      },
      "source": [
        "# Libraries import\n",
        "<img src='https://camo.githubusercontent.com/c04e16c05de80dadbdc990884672fc941fdcbbfbb02b31dd48c248d010861426/68747470733a2f2f7777772e74656e736f72666c6f772e6f72672f696d616765732f74665f6c6f676f5f736f6369616c2e706e67' height=200>\n",
        "\n"
      ]
    },
    {
      "cell_type": "code",
      "metadata": {
        "id": "C-nPqdiFRJVh"
      },
      "source": [
        "import numpy as np\n",
        "import matplotlib.pyplot as plt\n",
        "from PIL import Image\n",
        "\n",
        "import tensorflow as tf\n",
        "from tensorflow.keras import models\n",
        "from tensorflow.keras import layers\n",
        "from tensorflow.keras import datasets"
      ],
      "execution_count": null,
      "outputs": []
    },
    {
      "cell_type": "markdown",
      "metadata": {
        "id": "XWGiTRtvxwJB"
      },
      "source": [
        "# MNIST data\n",
        "<img src='https://miro.medium.com/max/584/1*2lSjt9YKJn9sxK7DSeGDyw.jpeg' height=200>"
      ]
    },
    {
      "cell_type": "code",
      "metadata": {
        "id": "KcUeF3mFRJp-"
      },
      "source": [
        "(train_data, train_labels), (test_data, test_labels) = datasets.mnist.load_data()\n",
        "data = train_data.astype(np.float32)\n",
        "data = data /255\n",
        "data = data.reshape(-1, 784)\n",
        "\n",
        "classes = 10\n",
        "labels = tf.keras.utils.to_categorical(train_labels, classes)"
      ],
      "execution_count": null,
      "outputs": []
    },
    {
      "cell_type": "markdown",
      "metadata": {
        "id": "UJbu92dXRTH5"
      },
      "source": [
        "# model\n",
        "<img src='https://cdn-images-1.medium.com/max/550/1*pO5X2c28F1ysJhwnmPsy3Q.gif' height=250>\n",
        "\n"
      ]
    },
    {
      "cell_type": "code",
      "metadata": {
        "id": "iLdiJpKdRJs0"
      },
      "source": [
        "model = models.Sequential()\n",
        "model.add(layers.Dense(100, activation='relu', input_shape=(784, )))\n",
        "model.add(layers.Dense(100, activation='relu'))\n",
        "model.add(layers.Dense(10, activation='softmax'))\n",
        "\n",
        "model.compile(optimizer='adam', loss='categorical_crossentropy', metrics=['accuracy'])\n",
        "model.fit(data, labels, epochs=10)"
      ],
      "execution_count": null,
      "outputs": []
    },
    {
      "cell_type": "markdown",
      "metadata": {
        "id": "BbUcWJzSRsjY"
      },
      "source": [
        "# saving the model\n",
        "converting a model saved in keras (.h5) to saved_model"
      ]
    },
    {
      "cell_type": "code",
      "metadata": {
        "id": "SJpAHG_RRJya"
      },
      "source": [
        "model.save('simple_model.h5') # keras API for saving model\n",
        "\n",
        "model_ov = tf.keras.models.load_model('simple_model.h5')\n",
        "tf.saved_model.save(model_ov,'saved_model')"
      ],
      "execution_count": null,
      "outputs": []
    },
    {
      "cell_type": "markdown",
      "metadata": {
        "id": "kUJae65ZRy4y"
      },
      "source": [
        "# OpenVino model optimizer\n",
        "<img src='https://cdn-images-1.medium.com/fit/t/1600/480/1*_F330rP3SPZ-xhQKYQ1qhQ.png' height=100>"
      ]
    },
    {
      "cell_type": "code",
      "metadata": {
        "id": "XwHLsf_ZRJ01"
      },
      "source": [
        "mo_tf_path = '/opt/intel/openvino_2021/deployment_tools/model_optimizer/mo_tf.py'\n",
        "\n",
        "model_dir = '/content/saved_model'\n",
        "output_dir = '/content/'\n",
        "input_shape = [1, 784]\n",
        "input_shape_str = str(input_shape).replace(' ', '')\n",
        "\n",
        "#Running Commands to run OPENVINO's Model Optimiser Converter 'mo_tf.py'\n",
        "!source /opt/intel/openvino/bin/setupvars.sh\n",
        "!python {mo_tf_path} --saved_model_dir {model_dir} --output_dir {output_dir} --input_shape {input_shape_str} --data_type FP16"
      ],
      "execution_count": null,
      "outputs": []
    },
    {
      "cell_type": "code",
      "metadata": {
        "id": "26caPzusxdg_"
      },
      "source": [
        "!cat /content/saved_model.xml"
      ],
      "execution_count": null,
      "outputs": []
    },
    {
      "cell_type": "markdown",
      "metadata": {
        "id": "EV6fp8OKvuJT"
      },
      "source": [
        "# sample digit"
      ]
    },
    {
      "cell_type": "code",
      "metadata": {
        "id": "lTmIuR-Tt1iX"
      },
      "source": [
        "i = 5899\n",
        "\n",
        "test_digit = np.stack((test_data[i],)*3, axis=-1)\n",
        "test_label = test_labels[i]\n",
        "\n",
        "img = Image.fromarray(test_digit, 'RGB')\n",
        "img.save('test_image.png')\n",
        "\n",
        "plt.imshow(img)\n",
        "plt.axis('off')\n",
        "plt.title(f'label: {test_label}')\n",
        "plt.show()"
      ],
      "execution_count": null,
      "outputs": []
    },
    {
      "cell_type": "markdown",
      "metadata": {
        "id": "PqVxjDejZE8-"
      },
      "source": [
        "# OpenVino Inference Engine\n",
        "<img src='https://cdn-images-1.medium.com/fit/t/1600/480/1*_F330rP3SPZ-xhQKYQ1qhQ.png' height=100>\n"
      ]
    },
    {
      "cell_type": "code",
      "metadata": {
        "id": "0bntZ9MmXhwA"
      },
      "source": [
        "%%writefile inference_app.py\n",
        "\n",
        "import cv2\n",
        "import numpy as np\n",
        "from openvino.inference_engine import IECore\n",
        "\n",
        "# optimized model location\n",
        "model_xml = '/content/saved_model.xml'\n",
        "model_bin = '/content/saved_model.bin'\n",
        "\n",
        "# inference engine\n",
        "ie = IECore()\n",
        "\n",
        "net = ie.read_network(model=model_xml, weights=model_bin)\n",
        "model = ie.load_network(network=net, num_requests=1, device_name='CPU')\n",
        "\n",
        "# inputs and outputs\n",
        "input_blob= next(iter(net.input_info)) \n",
        "output_blob = next(iter(net.outputs))\n",
        "\n",
        "# image preprocessing\n",
        "def load_image(input_path):    \n",
        "    capture = cv2.VideoCapture(input_path)       \n",
        "    ret, image = capture.read()\n",
        "    del capture    \n",
        "    return image \n",
        "\n",
        "def prepare_image(image):\n",
        "    resized = cv2.resize(image, (28, 28)) # resize image\n",
        "    gray = cv2.cvtColor(resized, cv2.COLOR_BGR2GRAY) # change image to grayscale\n",
        "    reshaped = gray.reshape((1,) + ((gray.shape[0]*gray.shape[1]),)) # reshape from 28X28 to 1X784 (input_shape of our model)\n",
        "    flipped = (255 - reshaped) /255 # flip color values and rescale from 0-255 to 0-1\n",
        "    return reshaped\n",
        "\n",
        "image_path = '/content/test_image.png'\n",
        "\n",
        "image = load_image(image_path)\n",
        "prepared_image = prepare_image(image)\n",
        "\n",
        "prediction = model.infer(inputs={input_blob: prepared_image})\n",
        "\n",
        "print(f'raw prediction: {prediction}')\n",
        "\n",
        "for x in prediction.keys():\n",
        "    print(f'network prediction: {np.argmax(prediction[x])}')"
      ],
      "execution_count": null,
      "outputs": []
    },
    {
      "cell_type": "code",
      "metadata": {
        "id": "-IWU44YjW7Uh"
      },
      "source": [
        "%%writefile infer_app.sh\n",
        "source /opt/intel/openvino_2021/bin/setupvars.sh\n",
        "python /content/inference_app.py"
      ],
      "execution_count": null,
      "outputs": []
    },
    {
      "cell_type": "code",
      "metadata": {
        "id": "DaKYUhvzaHWW"
      },
      "source": [
        "!bash infer_app.sh"
      ],
      "execution_count": null,
      "outputs": []
    }
  ]
}